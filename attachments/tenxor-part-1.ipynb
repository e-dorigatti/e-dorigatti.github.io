{
 "cells": [
  {
   "cell_type": "markdown",
   "id": "1a76f60f",
   "metadata": {},
   "source": [
    "# Tensor computing from scratch part I - Fundamendal operations\n",
    "\n",
    "Squeeze, unsqueeze, view, reshape, flatten, swapaxes... Oh my! In deep learning applications, tensors can have extremely fluid shapes flowing from one operation to the next. Have you ever wondered how tensor computing libraries such as pytorch, numpy and tensorflow are able to efficiently keep track of your data, weights and activations? Then you've come to the right place, as we are going to implement our very own tensor library from scratch!\n",
    "\n",
    "<!-- more -->"
   ]
  },
  {
   "cell_type": "markdown",
   "id": "fe65ba63",
   "metadata": {},
   "source": [
    "What are we trying to achieve? Essentially, we want to write a set of functions that work with with tensors, or multi-dimensional arrays, allowing users to perform basic mathematical operations such as summation, multiplication, and so on. \n",
    "This kind of operations are the basis for modern deep learning and artificial intelligence methods, as well as pretty much anything that involves large-scale numerical computations.\n",
    "The [numpy][np] documentation has a nice introduction to the basic ideas of working with such type of data.\n",
    "\n",
    "This post is available as a Jupyter notebook, so feel free to [download it][jn] and follow along.\n",
    "\n",
    " [np]: https://numpy.org/doc/stable/user/absolute_beginners.html#what-is-an-array\n",
    " [jn]: /attachments/tenxor-part-1.ipynb"
   ]
  },
  {
   "cell_type": "markdown",
   "id": "54074c9e",
   "metadata": {},
   "source": [
    "## Data container"
   ]
  },
  {
   "cell_type": "markdown",
   "id": "41c4536f",
   "metadata": {},
   "source": [
    "The fundamental idea underlying efficient storage of multi-dimensional arrays is to always keep the data into a simple one-dimensional array, or list.\n",
    "Alongside, we also store the current shape of the tensor and a few more things which we will then use to correctly implement mathematical operations."
   ]
  },
  {
   "cell_type": "markdown",
   "id": "db2a34b8",
   "metadata": {},
   "source": [
    "Let's start by implementing the most basic container:"
   ]
  },
  {
   "cell_type": "code",
   "execution_count": 1,
   "id": "9f221f15",
   "metadata": {
    "execution": {
     "iopub.execute_input": "2025-01-16T23:43:28.350700Z",
     "iopub.status.busy": "2025-01-16T23:43:28.350449Z",
     "iopub.status.idle": "2025-01-16T23:43:28.359776Z",
     "shell.execute_reply": "2025-01-16T23:43:28.359026Z",
     "shell.execute_reply.started": "2025-01-16T23:43:28.350677Z"
    }
   },
   "outputs": [],
   "source": [
    "from functools import reduce\n",
    "from typing import Any, Callable, List, Optional, Tuple\n",
    "\n",
    "\n",
    "class Tenxor:\n",
    "    def __init__(self, values: List[float], shape: Optional[List[int]]):\n",
    "        self.values = values\n",
    "\n",
    "        if shape is not None:\n",
    "            # the total number of elements must equal the product\n",
    "            # of the size of each dimension\n",
    "            shape_elements = reduce(lambda x, y: x * y, shape)\n",
    "            if len(values) != shape_elements:\n",
    "                raise ValueError(\n",
    "                    f\"shape {shape} incompatible with values of size {len(values)}\"\n",
    "                )\n",
    "            self._shape = shape\n",
    "        else:\n",
    "            self._shape = [len(self.values)]\n",
    "\n",
    "    def get_shape(self) -> List[int]:\n",
    "        return self._shape\n",
    "\n",
    "    def __eq__(self, other: \"Tenxor\") -> bool:\n",
    "        \"\"\"\n",
    "        Two Tenxors are the same if they have the same data and same shape.\n",
    "        \"\"\"\n",
    "        return self._shape == other._shape and all(\n",
    "            x == y for x, y in zip(self.values, other.values)\n",
    "        )\n",
    "\n",
    "    def __repr__(self):\n",
    "        vals = \", \".join(map(str, self.values[:5]))\n",
    "        return (\n",
    "            f\"{self.__class__.__name__} of {len(self.values)} items\"\n",
    "            f\" with shape {self._shape} and values [{vals} ... ]\"\n",
    "        )"
   ]
  },
  {
   "cell_type": "code",
   "execution_count": 2,
   "id": "76aff0ab",
   "metadata": {
    "execution": {
     "iopub.execute_input": "2025-01-16T23:43:28.360824Z",
     "iopub.status.busy": "2025-01-16T23:43:28.360520Z",
     "iopub.status.idle": "2025-01-16T23:43:28.373683Z",
     "shell.execute_reply": "2025-01-16T23:43:28.372891Z",
     "shell.execute_reply.started": "2025-01-16T23:43:28.360795Z"
    }
   },
   "outputs": [
    {
     "data": {
      "text/plain": [
       "Tenxor of 12 items with shape [6, 2] and values [0, 0, 0, 0, 0 ... ]"
      ]
     },
     "execution_count": 2,
     "metadata": {},
     "output_type": "execute_result"
    }
   ],
   "source": [
    "t = Tenxor([0] * 12, [6, 2])\n",
    "t"
   ]
  },
  {
   "cell_type": "markdown",
   "id": "f3aaae05",
   "metadata": {},
   "source": [
    "## Pointwise transformations"
   ]
  },
  {
   "cell_type": "markdown",
   "id": "691dd4d0",
   "metadata": {},
   "source": [
    "The simplest kind of operations that we can implement at this point are pointwise transformations, i.e., transformations that involve each element separately."
   ]
  },
  {
   "cell_type": "code",
   "execution_count": 3,
   "id": "0c4539c6",
   "metadata": {
    "execution": {
     "iopub.execute_input": "2025-01-16T23:43:28.375105Z",
     "iopub.status.busy": "2025-01-16T23:43:28.374602Z",
     "iopub.status.idle": "2025-01-16T23:43:28.382425Z",
     "shell.execute_reply": "2025-01-16T23:43:28.381614Z",
     "shell.execute_reply.started": "2025-01-16T23:43:28.375075Z"
    }
   },
   "outputs": [],
   "source": [
    "def ttransform(tenxor: Tenxor, op: Callable[[Any], Any]) -> Tenxor:\n",
    "    \"\"\"Transforms all elements of the Tenxor with the given callable.\"\"\"\n",
    "    return Tenxor([op(x) for x in tenxor.values], tenxor.get_shape())"
   ]
  },
  {
   "cell_type": "code",
   "execution_count": 4,
   "id": "50c0deb8",
   "metadata": {
    "execution": {
     "iopub.execute_input": "2025-01-16T23:43:28.384211Z",
     "iopub.status.busy": "2025-01-16T23:43:28.383556Z",
     "iopub.status.idle": "2025-01-16T23:43:28.391522Z",
     "shell.execute_reply": "2025-01-16T23:43:28.390742Z",
     "shell.execute_reply.started": "2025-01-16T23:43:28.384178Z"
    }
   },
   "outputs": [],
   "source": [
    "def tmul_scalar(tenxor: Tenxor, scalar: float) -> Tenxor:\n",
    "    \"\"\"Multiplication by a scalar\"\"\"\n",
    "    return ttransform(tenxor, lambda x: scalar * x)"
   ]
  },
  {
   "cell_type": "code",
   "execution_count": 5,
   "id": "055adaa3",
   "metadata": {
    "execution": {
     "iopub.execute_input": "2025-01-16T23:43:28.392504Z",
     "iopub.status.busy": "2025-01-16T23:43:28.392184Z",
     "iopub.status.idle": "2025-01-16T23:43:28.399763Z",
     "shell.execute_reply": "2025-01-16T23:43:28.398802Z",
     "shell.execute_reply.started": "2025-01-16T23:43:28.392471Z"
    }
   },
   "outputs": [],
   "source": [
    "def tadd_scalar(tenxor: Tenxor, scalar: float) -> Tenxor:\n",
    "    \"\"\"Addition with a scalar.\"\"\"\n",
    "    return ttransform(tenxor, lambda x: scalar + x)"
   ]
  },
  {
   "cell_type": "code",
   "execution_count": 6,
   "id": "1891c476",
   "metadata": {
    "execution": {
     "iopub.execute_input": "2025-01-16T23:43:28.402865Z",
     "iopub.status.busy": "2025-01-16T23:43:28.402536Z",
     "iopub.status.idle": "2025-01-16T23:43:28.409695Z",
     "shell.execute_reply": "2025-01-16T23:43:28.408788Z",
     "shell.execute_reply.started": "2025-01-16T23:43:28.402842Z"
    }
   },
   "outputs": [
    {
     "data": {
      "text/plain": [
       "Tenxor of 12 items with shape [6, 2] and values [5, 5, 5, 5, 5 ... ]"
      ]
     },
     "execution_count": 6,
     "metadata": {},
     "output_type": "execute_result"
    }
   ],
   "source": [
    "tadd_scalar(t, 5)"
   ]
  },
  {
   "cell_type": "markdown",
   "id": "ecf1cb22",
   "metadata": {},
   "source": [
    "## Changing shape"
   ]
  },
  {
   "cell_type": "markdown",
   "id": "031aed7e",
   "metadata": {},
   "source": [
    "Since we keep the tensor shape separate from the actual data, changing shapes is a breeze: we just need to save the new shape somewhere!\n",
    "The only restriction is that the new shape must imply the same number of elements as the old shape.\n",
    "For convenience, it is often allowed to use the special size of `-1` to indicate that one dimension can take up as many elements as necessary to keep this invariance.\n",
    "For example, suppose we want to reshape a tensor with shape `(6, 2)` into shape `(-1, 3, 1)`; the resulting shape would be `(4, 3, 1)`, since it implies the same number of elements.\n",
    "If would not be possible to reshape `(7, 2)` into it, however, since you cannot arrange 14 elements into an integer number of rows of 3 elements each."
   ]
  },
  {
   "cell_type": "code",
   "execution_count": 7,
   "id": "2747ed85",
   "metadata": {
    "execution": {
     "iopub.execute_input": "2025-01-16T23:43:28.411817Z",
     "iopub.status.busy": "2025-01-16T23:43:28.411558Z",
     "iopub.status.idle": "2025-01-16T23:43:28.420454Z",
     "shell.execute_reply": "2025-01-16T23:43:28.419637Z",
     "shell.execute_reply.started": "2025-01-16T23:43:28.411791Z"
    }
   },
   "outputs": [],
   "source": [
    "def tview(old_shape: List[int], new_shape: List[int]) -> List[int]:\n",
    "    \"\"\"\n",
    "    Return the new shape of the Tenxor after reshaping.\n",
    "    \"\"\"\n",
    "\n",
    "    if any(s < -1 or s == 0 for s in new_shape):\n",
    "        raise ValueError(\"Zero or negative shape other than -1 not allowed\")\n",
    "\n",
    "    # find if there is a dimension of size -1\n",
    "    news = list(new_shape)\n",
    "    fill_dimensions = [i for i, s in enumerate(new_shape) if s == -1]\n",
    "    if len(fill_dimensions) > 1:\n",
    "        raise ValueError(\"Only one dimension can be -1\")\n",
    "    elif fill_dimensions:\n",
    "        # number of elements in the original tensor\n",
    "        numel = reduce(lambda x, y: x * y, old_shape)\n",
    "\n",
    "        # compute the total number of elements implied by the other dimensions\n",
    "        other_ns = reduce(lambda x, y: x * y, (s for s in new_shape if s != -1))\n",
    "\n",
    "        # this number must fit exactly into the total number of elements,\n",
    "        # otherwise it is not possible to pack it into a single dimension\n",
    "        if numel % other_ns != 0:\n",
    "            raise ValueError(f\"cannot reshape {old_shape} to {new_shape}\")\n",
    "        news[fill_dimensions[0]] = numel // other_ns\n",
    "\n",
    "    return news\n",
    "\n",
    "\n",
    "assert tview([6, 2], [-1, 3, 1]) == [4, 3, 1]"
   ]
  },
  {
   "cell_type": "markdown",
   "id": "8e50219f",
   "metadata": {},
   "source": [
    "We now implement two very useful operations to add and remove dimensions of size `1`.\n",
    "These operations are going to be extremely useful later once we implement \"broadcasting\", which allows us to work with Tenxors of different shapes."
   ]
  },
  {
   "cell_type": "code",
   "execution_count": 8,
   "id": "ce580046",
   "metadata": {
    "execution": {
     "iopub.execute_input": "2025-01-16T23:43:28.421646Z",
     "iopub.status.busy": "2025-01-16T23:43:28.421338Z",
     "iopub.status.idle": "2025-01-16T23:43:28.428794Z",
     "shell.execute_reply": "2025-01-16T23:43:28.427967Z",
     "shell.execute_reply.started": "2025-01-16T23:43:28.421621Z"
    }
   },
   "outputs": [],
   "source": [
    "def tsqueeze(shape: List[int], dim: int) -> List[int]:\n",
    "    \"\"\"\n",
    "    Return the new shape of the Tenxor after removing the given dimension of size 1.\n",
    "    \"\"\"\n",
    "\n",
    "    if dim < 0:\n",
    "        # support negative indexing from the end\n",
    "        dim = len(shape) + dim\n",
    "\n",
    "    # make sure that the dimension exists and has size 1\n",
    "    if dim < 0 or dim > len(shape):\n",
    "        raise ValueError(\"shape out of range\")\n",
    "    elif shape[dim] != 1:\n",
    "        raise ValueError(f\"cannot unsqueeze dimension {dim} of size {shape[dim]}\")\n",
    "\n",
    "    # simply remove the given dimension\n",
    "    new_shape = [s for i, s in enumerate(shape) if i != dim]\n",
    "\n",
    "    return new_shape\n",
    "\n",
    "\n",
    "assert tsqueeze([4, 3, 1], -1) == [4, 3]"
   ]
  },
  {
   "cell_type": "code",
   "execution_count": 9,
   "id": "00a3e00f",
   "metadata": {
    "execution": {
     "iopub.execute_input": "2025-01-16T23:43:28.429822Z",
     "iopub.status.busy": "2025-01-16T23:43:28.429538Z",
     "iopub.status.idle": "2025-01-16T23:43:28.436959Z",
     "shell.execute_reply": "2025-01-16T23:43:28.436203Z",
     "shell.execute_reply.started": "2025-01-16T23:43:28.429797Z"
    }
   },
   "outputs": [],
   "source": [
    "def tunsqueeze(shape: List[int], dim: int) -> List[int]:\n",
    "    \"\"\"\n",
    "    Add a new dimension of size 1 in the given position.\n",
    "    \"\"\"\n",
    "\n",
    "    if dim < 0:\n",
    "        # support negative indexing from the end\n",
    "        dim = len(shape) + dim + 1\n",
    "\n",
    "    if dim < 0 or dim >= len(shape) + 1:\n",
    "        # make sure that the dimension exists\n",
    "        raise ValueError(\"shape out of range\")\n",
    "\n",
    "    # add a new dimension of size 1 in the right place\n",
    "    new_shape = shape[:dim] + [1] + shape[dim:]\n",
    "\n",
    "    return new_shape\n",
    "\n",
    "\n",
    "assert tunsqueeze([4, 3], 0) == [1, 4, 3]\n",
    "assert tunsqueeze([4, 3], -1) == [4, 3, 1]"
   ]
  },
  {
   "cell_type": "markdown",
   "id": "6faab9bc",
   "metadata": {},
   "source": [
    "## Element indexing\n",
    "\n",
    "The key issue that we need to solve before moving on to more complex operations is to index the elements contained in a tensor.\n",
    "Here, I do not mean indexing with brackets as in `t[0, 1, 2]`, but rather finding the position in the flattened item array corresponding to a certain multi-dimensional index.\n",
    "\n",
    "This is where knowing the shape becomes crucial.\n",
    "Suppose that we are working with a two-dimensional array of shape `(5, 3)`. It is natural to put the element `(0, 0)` at position `0` of the flat array.\n",
    "Now, we are going to assume that the last dimension is the fastest that changes, so that the element `(0, 1)` goes into position `1`, and the element `(0, 2)` to position `2`.\n",
    "The second-to-last dimension is the next one to change, so that `(1, 0)` goes to position `3`, `(1, 1)` to position `4`, and so on.\n",
    "Generally, the item `(a, b)` of a `(5, 3)` array goes to position `3 * a + b`.\n",
    "With more dimensions, we simply need to multiply the index with the shape of all previous dimensions combined."
   ]
  },
  {
   "cell_type": "code",
   "execution_count": 10,
   "id": "1335aa60",
   "metadata": {
    "execution": {
     "iopub.execute_input": "2025-01-16T23:43:28.438578Z",
     "iopub.status.busy": "2025-01-16T23:43:28.437869Z",
     "iopub.status.idle": "2025-01-16T23:43:28.445785Z",
     "shell.execute_reply": "2025-01-16T23:43:28.445010Z",
     "shell.execute_reply.started": "2025-01-16T23:43:28.438547Z"
    }
   },
   "outputs": [],
   "source": [
    "def position_to_index(pos: List[int], shape: List[int]) -> int:\n",
    "    \"\"\"\n",
    "    Find the index in the flattened array corresponding to the given\n",
    "    position in the multi-dimensional tensor.\n",
    "    \"\"\"\n",
    "    idx = 0\n",
    "    acc = 1\n",
    "    k = len(shape) - 1\n",
    "    while k >= 0:\n",
    "        if pos[k] >= shape[k]:\n",
    "            raise RuntimeError(\n",
    "                f\"index {pos[k]} at dimension {k} out of bounds for size {shape[k]}\"\n",
    "            )\n",
    "        idx += acc * pos[k]\n",
    "        acc *= shape[k]\n",
    "        k -= 1\n",
    "    return idx\n",
    "\n",
    "\n",
    "assert position_to_index(pos=[1, 2, 3], shape=[5, 6, 7]) == 59  # = 3 + 2*7 + 1*7*6"
   ]
  },
  {
   "cell_type": "markdown",
   "id": "0042eebb",
   "metadata": {},
   "source": [
    "We will also need a function for the inverse operation, i.e., mapping an index into the flat array back to an index into the multi-dimensional tensor.\n",
    "In our running example, a flat index of `4` for a shape of `(5, 3)` should be mapped to position `(1, 2)` since `4 = 1 * 3 + 2`.\n",
    "\n",
    "In the following function, I use the term \"slice\" to indicate the elements of the flat array spanned by each dimension of the tensor.\n",
    "In other words, which and how many elements should be skipped each time the index of that dimension is incremented by one.\n",
    "The very last slice always has size one, since incrementing the last index moves the index into the flat array by one.\n",
    "The second-to-last slice has size equal to the last dimension: in our `(5, 3)` example, the element `(1, 2)` is separated from the element `(0, 2)` by exactly three elements.\n",
    "\n",
    "In a tensor of shape `(5, 6, 7)`, the slices have size `(42, 7, 1)`, where 42 = 7 x 6.\n",
    "This means that the elements `(i, j, k)` and `(i + 1, j, k)` are separated by 42 elements in the flattened array.\n",
    "Suppose we want to find the multi-dimensional position of element 59 in the flattened array:\n",
    "  1. Because 42 divides 59 one time with remainder of 17, the first dimension has index 1.\n",
    "  2. The remaining 17 items are divided by 7 two times with remainder 3, so the second dimension has index 2.\n",
    "  3. The remaining 3 items are divided by 1 3 times with remainder 0, so the third dimension has index 3. "
   ]
  },
  {
   "cell_type": "code",
   "execution_count": 11,
   "id": "6c35cfde",
   "metadata": {
    "execution": {
     "iopub.execute_input": "2025-01-16T23:43:28.447395Z",
     "iopub.status.busy": "2025-01-16T23:43:28.447077Z",
     "iopub.status.idle": "2025-01-16T23:43:28.454193Z",
     "shell.execute_reply": "2025-01-16T23:43:28.453586Z",
     "shell.execute_reply.started": "2025-01-16T23:43:28.447374Z"
    }
   },
   "outputs": [],
   "source": [
    "def index_to_position(idx: int, shape: List[int]) -> int:\n",
    "    \"\"\"\n",
    "    Finds the position in the multi-dimensional tensor corresponding to\n",
    "    the element at the given index in the flattened array.\n",
    "    \"\"\"\n",
    "\n",
    "    # we could make this function more efficient by pre-computing this\n",
    "    # and storing it in the Tenxor\n",
    "    slice_sizes = [1] * len(shape)\n",
    "    for k in range(len(shape) - 1, 0, -1):\n",
    "        slice_sizes[k - 1] *= shape[k] * slice_sizes[k]\n",
    "\n",
    "    pos = [0] * len(shape)\n",
    "    for k in range(len(shape)):\n",
    "        pos[k] = idx // slice_sizes[k]\n",
    "        idx = idx % slice_sizes[k]\n",
    "\n",
    "        if pos[k] >= shape[k]:\n",
    "            raise RuntimeError(\n",
    "                f\"index {pos[k]} at position {k} out of bounds\"\n",
    "                f\" for slice size {slice_sizes[k]}\"\n",
    "            )\n",
    "\n",
    "    return pos\n",
    "\n",
    "\n",
    "assert index_to_position(59, [5, 6, 7]) == [1, 2, 3]"
   ]
  },
  {
   "cell_type": "markdown",
   "id": "bb480028",
   "metadata": {},
   "source": [
    "Finally, the last foundational method we need is one to find the position that is immediately \"following\" a given position.\n",
    "With this method, we will be able to navigate a tensor visiting all its elements one after the other, thus building a fundation for complex binary operations between two tensors.  "
   ]
  },
  {
   "cell_type": "code",
   "execution_count": 12,
   "id": "7fb3ee56",
   "metadata": {
    "execution": {
     "iopub.execute_input": "2025-01-16T23:43:28.455304Z",
     "iopub.status.busy": "2025-01-16T23:43:28.454953Z",
     "iopub.status.idle": "2025-01-16T23:43:28.462965Z",
     "shell.execute_reply": "2025-01-16T23:43:28.462129Z",
     "shell.execute_reply.started": "2025-01-16T23:43:28.455265Z"
    }
   },
   "outputs": [],
   "source": [
    "def next_position(pos: List[int], shape: List[int]) -> bool:\n",
    "    \"\"\"\n",
    "    Find the multi-dimensional position immediately \"after\" the given position.\n",
    "    Modifies `pos` in place, returns true if there are more elements to visit,\n",
    "    or false if the computed position is out of bounds.\n",
    "    \"\"\"\n",
    "\n",
    "    pos[-1] += 1\n",
    "    k = len(pos) - 1\n",
    "    while k > 0 and pos[k] == shape[k]:\n",
    "        pos[k] = 0\n",
    "        pos[k - 1] += 1\n",
    "        k -= 1\n",
    "\n",
    "    return pos[0] < shape[0]\n",
    "\n",
    "\n",
    "p = [1, 2, 6]\n",
    "next_position(p, [5, 6, 7])\n",
    "assert p == [1, 3, 0]"
   ]
  },
  {
   "cell_type": "markdown",
   "id": "3cd97e3f",
   "metadata": {},
   "source": [
    "Let's make sure that these methods can work together harmoniously by scanning all elements of a tenxor and ensuring that these methods give consistent results:"
   ]
  },
  {
   "cell_type": "code",
   "execution_count": 13,
   "id": "c228c3d2",
   "metadata": {
    "execution": {
     "iopub.execute_input": "2025-01-16T23:43:28.464051Z",
     "iopub.status.busy": "2025-01-16T23:43:28.463723Z",
     "iopub.status.idle": "2025-01-16T23:43:28.473511Z",
     "shell.execute_reply": "2025-01-16T23:43:28.472236Z",
     "shell.execute_reply.started": "2025-01-16T23:43:28.464019Z"
    }
   },
   "outputs": [
    {
     "name": "stdout",
     "output_type": "stream",
     "text": [
      "Index 0 corresponds to position [0, 0, 0] for shape [2, 2, 2]\n",
      "Index 1 corresponds to position [0, 0, 1] for shape [2, 2, 2]\n",
      "Index 2 corresponds to position [0, 1, 0] for shape [2, 2, 2]\n",
      "Index 3 corresponds to position [0, 1, 1] for shape [2, 2, 2]\n",
      "Index 4 corresponds to position [1, 0, 0] for shape [2, 2, 2]\n",
      "Index 5 corresponds to position [1, 0, 1] for shape [2, 2, 2]\n",
      "Index 6 corresponds to position [1, 1, 0] for shape [2, 2, 2]\n",
      "Index 7 corresponds to position [1, 1, 1] for shape [2, 2, 2]\n",
      "First position out of bounds for shape [2, 2, 2] is [2, 0, 0]\n"
     ]
    }
   ],
   "source": [
    "pos = [0, 0, 0]  # initial position\n",
    "shape = [2, 2, 2]  # shape of the tenxor\n",
    "\n",
    "has_more = True\n",
    "idx = 0\n",
    "while has_more:\n",
    "    print(f\"Index {idx} corresponds to position {pos} for shape {shape}\")\n",
    "    assert pos == index_to_position(idx, shape)\n",
    "    assert idx == position_to_index(pos, shape)\n",
    "\n",
    "    has_more = next_position(pos, shape)\n",
    "    idx += 1\n",
    "\n",
    "\n",
    "print(f\"First position out of bounds for shape {shape} is {pos}\")"
   ]
  },
  {
   "cell_type": "markdown",
   "id": "9e0fccdc",
   "metadata": {},
   "source": [
    "This basic loop and its variations will form the basis by which we implement many operations later, so be sure to understand how it works!"
   ]
  },
  {
   "cell_type": "markdown",
   "id": "9c92e2c4",
   "metadata": {},
   "source": [
    "## Tensor interface"
   ]
  },
  {
   "cell_type": "markdown",
   "id": "34319e14",
   "metadata": {},
   "source": [
    "We want to hide the fact that the data is stored in a simple list, so that users of our tensors can use it only via multi-dimensional indexing.\n",
    "Therefore, let us create a basic class that defines the interface by which we will use the tensors, plus a few simple operations:"
   ]
  },
  {
   "cell_type": "code",
   "execution_count": 14,
   "id": "3324f74c",
   "metadata": {
    "execution": {
     "iopub.execute_input": "2025-01-16T23:43:28.474600Z",
     "iopub.status.busy": "2025-01-16T23:43:28.474292Z",
     "iopub.status.idle": "2025-01-16T23:43:28.480406Z",
     "shell.execute_reply": "2025-01-16T23:43:28.479616Z",
     "shell.execute_reply.started": "2025-01-16T23:43:28.474574Z"
    }
   },
   "outputs": [],
   "source": [
    "class AbstractTenxor:\n",
    "    # abstract interface\n",
    "    def get_shape(self) -> List[int]:\n",
    "        raise NotImplementedError()\n",
    "\n",
    "    def get_at_position(self, pos: List[int]) -> float:\n",
    "        raise NotImplementedError()\n",
    "\n",
    "    def set_at_position(self, pos: List[int], val: float) -> None:\n",
    "        raise NotImplementedError()\n",
    "\n",
    "    def next_position(self, pos: List[int]) -> bool:\n",
    "        raise NotImplementedError()\n",
    "\n",
    "    def transform_values(self, op: Callable[[float], float]) -> \"AbstractTenxor\":\n",
    "        raise NotImplementedError()\n",
    "\n",
    "    # shape features\n",
    "    def squeeze(self, dim: int) -> \"AbstractTenxor\":\n",
    "        new_shape = tsqueeze(self.get_shape(), dim)\n",
    "        return self.view(new_shape)\n",
    "\n",
    "    def unsqueeze(self, dim: int) -> \"AbstractTenxor\":\n",
    "        new_shape = tunsqueeze(self.get_shape(), dim)\n",
    "        return self.view(new_shape)\n",
    "\n",
    "    def view(self, shape: List[int]) -> \"AbstractTenxor\":\n",
    "        raise NotImplementedError()"
   ]
  },
  {
   "cell_type": "markdown",
   "id": "de92ef55",
   "metadata": {},
   "source": [
    "And provide an implementation of these methods for the basic container above:"
   ]
  },
  {
   "cell_type": "code",
   "execution_count": 15,
   "id": "fa6c5d2b",
   "metadata": {
    "execution": {
     "iopub.execute_input": "2025-01-16T23:43:28.482316Z",
     "iopub.status.busy": "2025-01-16T23:43:28.481397Z",
     "iopub.status.idle": "2025-01-16T23:43:28.490083Z",
     "shell.execute_reply": "2025-01-16T23:43:28.489358Z",
     "shell.execute_reply.started": "2025-01-16T23:43:28.482270Z"
    }
   },
   "outputs": [],
   "source": [
    "class Tenxor(AbstractTenxor):\n",
    "    def __init__(self, values: List[float], shape: List[int]):\n",
    "        self._values = values\n",
    "        self._shape = shape\n",
    "\n",
    "    def get_shape(self) -> List[int]:\n",
    "        return self._shape\n",
    "\n",
    "    def view(self, shape: List[int]) -> \"Tenxor\":\n",
    "        return Tenxor(self._values, shape)\n",
    "\n",
    "    def get_at_position(self, pos: List[int]) -> float:\n",
    "        idx = position_to_index(pos, self._shape)\n",
    "        return self._values[idx]\n",
    "\n",
    "    def set_at_position(self, pos: List[int], val: float) -> None:\n",
    "        idx = position_to_index(pos, self._shape)\n",
    "        self._values[idx] = val\n",
    "\n",
    "    def next_position(self, pos) -> bool:\n",
    "        return next_position(pos, self._shape)\n",
    "\n",
    "    def transform_values(self, op: Callable[[float], float]) -> \"Tenxor\":\n",
    "        return Tenxor([op(x) for x in self._values], self._shape)\n",
    "\n",
    "    def __eq__(self, other: \"Tenxor\") -> bool:\n",
    "        return self._shape == other._shape and all(\n",
    "            x == y for x, y in zip(self._values, other._values)\n",
    "        )"
   ]
  },
  {
   "cell_type": "markdown",
   "id": "50bf37de",
   "metadata": {},
   "source": [
    "This structure will become useful in part 2 of this series, as we are going to provide new tensor implementations with additional features."
   ]
  },
  {
   "cell_type": "markdown",
   "id": "ee719589",
   "metadata": {},
   "source": [
    "## Reduction along one axis"
   ]
  },
  {
   "cell_type": "markdown",
   "id": "cba07262",
   "metadata": {},
   "source": [
    "Finally we can start with actual maths!\n",
    "There are two fundamental operations that we should support: reduction along one axis, and pointwise operations between elements at the same position.\n",
    "More complex operations can be implemented on top of these two as we are going to see later.\n",
    "\n",
    "Let's start with reduction.\n",
    "The goal here is to combine all elements that belong to a given dimension of the array, e.g. by summing them.\n",
    "For example, since rows are the first dimension of a matrix, a reduction along the first dimension combines all elements of each column together, and the result is an one-dimensional array with one element for each column.\n",
    "A reduction along the second axis works in the opposite way, combining the elements of each row.\n",
    "\n",
    "You can think of the dimension that we reduce along as the dimension that \"disappears\" in the result.\n",
    "For example, reducing an array of shape `(4, 3, 2)` along the second dimension results in an array of shape `(4, 2)`.\n",
    "The element at position `(3, 1)` of the result is obtained by combining the elements at positions `(3, 0, 1)`, `(3, 1, 1)` and `(3, 2, 1)` of the input array."
   ]
  },
  {
   "cell_type": "code",
   "execution_count": 16,
   "id": "b9fc9447",
   "metadata": {
    "execution": {
     "iopub.execute_input": "2025-01-16T23:43:28.491292Z",
     "iopub.status.busy": "2025-01-16T23:43:28.490907Z",
     "iopub.status.idle": "2025-01-16T23:43:28.499538Z",
     "shell.execute_reply": "2025-01-16T23:43:28.498808Z",
     "shell.execute_reply.started": "2025-01-16T23:43:28.491262Z"
    }
   },
   "outputs": [],
   "source": [
    "def tredux(\n",
    "    tenxor: AbstractTenxor, dim: int, init: Any, redux: Callable[[Any, Any], Any]\n",
    ") -> AbstractTenxor:\n",
    "    \"\"\"\n",
    "    Combine all elements of the given dimension using the operation provided.\n",
    "    \"\"\"\n",
    "\n",
    "    if dim < 0:\n",
    "        dim = len(tenxor.get_shape()) + dim\n",
    "    if dim < 0 or dim > len(tenxor.get_shape()):\n",
    "        raise ValueError(\"shape out of range\")\n",
    "\n",
    "    # Compute the shape of the result and initialize its elements.\n",
    "    # At first we keep the dimension that we are reducing along, but with\n",
    "    # only one element that contains the result along that slice.\n",
    "\n",
    "    # initialize the result tensor\n",
    "    res_shape = [s if i != dim else 1 for i, s in enumerate(tenxor.get_shape())]\n",
    "    result = Tenxor([init] * reduce(lambda x, y: x * y, res_shape), res_shape)\n",
    "\n",
    "    # initialize the counters\n",
    "    res_pos = [0] * len(res_shape)\n",
    "    res_has_more = True\n",
    "    while res_has_more:\n",
    "        # scan the input tensor along the given dimension and reduce all items there\n",
    "        in_pos = res_pos[:]\n",
    "        acc = init\n",
    "        for i in range(tenxor.get_shape()[dim]):\n",
    "            in_pos[dim] = i\n",
    "            acc = redux(acc, tenxor.get_at_position(in_pos))\n",
    "        result.set_at_position(res_pos, acc)\n",
    "\n",
    "        # move to next result position\n",
    "        res_has_more = result.next_position(res_pos)\n",
    "\n",
    "    # finally remove the dimension that we reduced along\n",
    "    return result.squeeze(dim)"
   ]
  },
  {
   "cell_type": "code",
   "execution_count": 17,
   "id": "4bcf2cd5",
   "metadata": {
    "execution": {
     "iopub.execute_input": "2025-01-16T23:43:28.500640Z",
     "iopub.status.busy": "2025-01-16T23:43:28.500351Z",
     "iopub.status.idle": "2025-01-16T23:43:28.508493Z",
     "shell.execute_reply": "2025-01-16T23:43:28.507773Z",
     "shell.execute_reply.started": "2025-01-16T23:43:28.500616Z"
    }
   },
   "outputs": [],
   "source": [
    "tx = Tenxor(range(24), (4, 3, 2))\n",
    "\n",
    "# sum all elements of the first dimension\n",
    "assert tredux(tx, 0, 0, lambda x, y: x + y) == Tenxor([36, 40, 44, 48, 52, 56], [3, 2])\n",
    "\n",
    "# sum all elements of the second dimension\n",
    "assert tredux(tx, 1, 0, lambda x, y: x + y) == Tenxor(\n",
    "    [6, 9, 24, 27, 42, 45, 60, 63], [4, 2]\n",
    ")\n",
    "\n",
    "# sum all elements of the third dimension\n",
    "assert tredux(tx, 2, 0, lambda x, y: x + y) == Tenxor(\n",
    "    [1, 5, 9, 13, 17, 21, 25, 29, 33, 37, 41, 45], [4, 3]\n",
    ")"
   ]
  },
  {
   "cell_type": "markdown",
   "id": "a34695b5",
   "metadata": {},
   "source": [
    "Note that in this function we visit each item of the result only once and reduce all input elements in one shot with the inner loop.\n",
    "The other option would be to scan each item of the input, figure out where it should end up in the result, and perform the computation accordingly, thus eliminating the need for an inner loop.\n",
    "The reason why we did it in this way is that it would be much easier to parallelize, for example on a GPU, since we could have in principle a thread for each item of the result, and all these threads could write independently of each other (having multiple threads writing to the same location is much slower since they would need to synchronize)."
   ]
  },
  {
   "cell_type": "markdown",
   "id": "1514a5f7",
   "metadata": {},
   "source": [
    "## Pointwise operations"
   ]
  },
  {
   "cell_type": "markdown",
   "id": "6c7a2fda",
   "metadata": {},
   "source": [
    "Pointwise operations combine the elements of two input tensors that are located at the same position.\n",
    "When the two tensors have the same shape everything is easy, but the real power of this function comes from combining tensors of different sizes.\n",
    "How is it possible you ask? This is thanks to **broadcasting**, which is a fundamental concept to write more complex numerical routines.\n",
    "\n",
    "Let's start with an example: the outer sum between a vector of size 4 and a vector of size 3, matrix of size `(4, 3)`.\n",
    "The element at position `(i, j)` of this matrix comes from the sum of element `i` of the first vector and element `j` of the second vector.\n",
    "But we want to compute this as the combination of two tensors of the same shape, so how can we get this result by adding together the elements at position `(i, j)` of two matrices of size `(4, 3)`?\n",
    "Well, we could take the fist vector of size four, and create three copies of it along three columns of one matrix, then take the second vector of size three and create four copies of it along two rows of the second matrix, like this (image from the numpy documentation):\n",
    "\n",
    "![broadcasting](https://numpy.org/doc/stable/_images/broadcasting_4.png)\n",
    "\n",
    "This is essentially the core of broadcasting: we create copies of certain dimensions of the two input arrays, or \"stretch\" them, such that all of their dimensions match.\n",
    "To make this efficient, we do not want to actually copy the data, we would rather work with the two inputs as they are.\n",
    "\n",
    "Not all inputs can be broadcasted together, however; their shapes have to be compatible.\n",
    "In general, two vectors can be broadcasted together as long as their shapes can be paired such that the sizes of each dimension are the identical, or one of them equals `1`.\n",
    "For example, `(5, 1)` can be broadcasted with `(5, 3)`. \n",
    "Moreover, if one array has fewer dimensions, its shape can be extended to the left with additional dimensions of size `1`; for example, `(5, 1, 3)` can be broadcased with `(4, 3)`, since the latter shape can be extended to `(1, 4, 3)`, and the result would have shape `(5, 4, 3)`.\n",
    "You can visualize this easily by writing the shapes and aligning each dimension of the inputs to the right:\n",
    "\n",
    "```\n",
    "(5, 1, 3)  # Shape of a\n",
    "(   4, 3)  # Shape of b\n",
    "(5, 4, 3)  # Shape of c = a + b\n",
    "```\n",
    "\n",
    "The actual computation performed is:\n",
    "\n",
    "```\n",
    "c = a + b\n",
    "# c[i, j, k] = a[i, 0, k] + b[0, j, k]\n",
    "```\n",
    "\n",
    "The way to understand indexing is that an index for a dimension is not used for an input whenever its size is one, using 0 instead. \n",
    "Since the second dimension of `a` has size 1, then the second dimension of the result does *not* come from `a`, i.e., the index `j` is not used for `a`.\n",
    "In the same way, since the first dimension of `b` is 1 after broadcasting, the first index of the result, that is `i`, is not used to index `c`.\n",
    "This is exactly how we are going to implement broadcasting: ignore indices corresponding to dimensions of size 1.\n",
    "Feel free to check [numpy's documentation on broadcasting][npbc] for more detailed explanation and examples.\n",
    "\n",
    " [npbc]: https://numpy.org/doc/stable/user/basics.broadcasting.html"
   ]
  },
  {
   "cell_type": "code",
   "execution_count": 18,
   "id": "00945f1a",
   "metadata": {
    "execution": {
     "iopub.execute_input": "2025-01-16T23:43:28.509661Z",
     "iopub.status.busy": "2025-01-16T23:43:28.509296Z",
     "iopub.status.idle": "2025-01-16T23:43:28.518170Z",
     "shell.execute_reply": "2025-01-16T23:43:28.517413Z",
     "shell.execute_reply.started": "2025-01-16T23:43:28.509634Z"
    }
   },
   "outputs": [],
   "source": [
    "def broadcast_shapes(\n",
    "    shape_a: List[int], shape_b: List[int]\n",
    ") -> Tuple[List[int], List[int], List[int]]:\n",
    "    \"\"\"\n",
    "    Broadcast the shapes of two tensors, returning the new shapes after broadcasting as well\n",
    "    as the shape of the result.\n",
    "    \"\"\"\n",
    "\n",
    "    # match the length of the shapes by extending\n",
    "    # the shorter one with ones to the left\n",
    "    an, bn = len(shape_a), len(shape_b)\n",
    "    if an == bn:\n",
    "        pass\n",
    "    elif an > bn:\n",
    "        shape_b = [1] * (an - bn) + shape_b\n",
    "    elif an < bn:\n",
    "        shape_a = [1] * (bn - an) + shape_a\n",
    "\n",
    "    # check that shapes are compabible, and compute the shape of the result\n",
    "    result_shape = []\n",
    "    for k, (n, m) in enumerate(zip(shape_a, shape_b)):\n",
    "        r = None\n",
    "        if n == 1:\n",
    "            # dimension k of the first tensor is broadcasted\n",
    "            # use dimension k of the second tensor as\n",
    "            # size for this dimension of the result\n",
    "            r = m\n",
    "        elif m == 1:\n",
    "            # dimension k of the second tensor is broadcasted\n",
    "            # use dimension k of the first tensor as\n",
    "            # size for this dimension of the result\n",
    "            r = n\n",
    "        elif m != n:\n",
    "            # input tensors have different shapes that are not broadcastable,\n",
    "            # i.e., different than one\n",
    "            raise ValueError(\n",
    "                f\"incompatible shapes {shape_a} and {shape_b} at dimension {k}\"\n",
    "            )\n",
    "        else:\n",
    "            r = m\n",
    "\n",
    "        result_shape.append(r)\n",
    "\n",
    "    return shape_a, shape_b, result_shape\n",
    "\n",
    "\n",
    "assert broadcast_shapes([5, 1, 3], [7, 1, 4, 3]) == (\n",
    "    [1, 5, 1, 3],  # dimension of size one added to the right of shape_a\n",
    "    [7, 1, 4, 3],  # shape_b remains the same\n",
    "    [7, 5, 4, 3],  # dimension of the result with the largest size for each axis\n",
    ")"
   ]
  },
  {
   "cell_type": "markdown",
   "id": "252eb876",
   "metadata": {},
   "source": [
    "We can now use this function to align the shapes of the two tensors and compute the result shape before doing the point-wise operation:"
   ]
  },
  {
   "cell_type": "code",
   "execution_count": 19,
   "id": "3930cabf",
   "metadata": {
    "execution": {
     "iopub.execute_input": "2025-01-16T23:43:28.519148Z",
     "iopub.status.busy": "2025-01-16T23:43:28.518881Z",
     "iopub.status.idle": "2025-01-16T23:43:28.529221Z",
     "shell.execute_reply": "2025-01-16T23:43:28.528478Z",
     "shell.execute_reply.started": "2025-01-16T23:43:28.519124Z"
    }
   },
   "outputs": [],
   "source": [
    "def tpoint(a: Tenxor, b: Tenxor, redux: Callable[[Any, Any], Any]) -> Tenxor:\n",
    "    \"\"\"\n",
    "    Perform a pointwise operation by combining the two elements of the inputs\n",
    "    that are in the same position after broadcasting.\n",
    "    \"\"\"\n",
    "\n",
    "    # broadcast tensors and compute shape result\n",
    "    a_shape, b_shape, result_shape = broadcast_shapes(a.get_shape(), b.get_shape())\n",
    "    a_broad = a.view(a_shape)\n",
    "    b_broad = b.view(b_shape)\n",
    "\n",
    "    # initialize the container data for the result tensor and the position cursor\n",
    "    result = Tenxor([None] * reduce(lambda m, n: m * n, result_shape), result_shape)\n",
    "    result_pos = [0] * len(result_shape)\n",
    "    result_has_more = True\n",
    "\n",
    "    # perform the operation\n",
    "    while result_has_more:\n",
    "        # find the positions in the input arrays:\n",
    "        # use 0 in each dimension that was broadcasted\n",
    "        pos_a = [i if n > 1 else 0 for i, n in zip(result_pos, a_broad.get_shape())]\n",
    "        pos_b = [i if n > 1 else 0 for i, n in zip(result_pos, b_broad.get_shape())]\n",
    "\n",
    "        # perform the operation, store the result and move on\n",
    "        res = redux(a_broad.get_at_position(pos_a), b_broad.get_at_position(pos_b))\n",
    "        result.set_at_position(result_pos, res)\n",
    "        result_has_more = result.next_position(result_pos)\n",
    "\n",
    "    return result\n",
    "\n",
    "\n",
    "assert tpoint(\n",
    "    Tenxor([1, 2, 3], (3, 1)),\n",
    "    Tenxor([1, 2, 3], (1, 3)),\n",
    "    lambda x, y: x * y,  # element-wise product\n",
    ") == Tenxor([1, 2, 3, 2, 4, 6, 3, 6, 9], [3, 3])"
   ]
  },
  {
   "cell_type": "markdown",
   "id": "3ea8b94d",
   "metadata": {},
   "source": [
    "The operation above computed the outer product of $\\vert 1, 2, 3 \\vert$ as a column vector with its transpose, i.e. a row vector, giving a 3 by 3 matrix:\n",
    "\n",
    "$$\n",
    "\\begin{vmatrix} 1 \\\\ 2 \\\\ 3 \\end{vmatrix}\n",
    "\\times\n",
    "\\begin{vmatrix} 1 & 2 & 3 \\end{vmatrix}\n",
    "=\\begin{vmatrix}\n",
    "1 & 2 & 3 \\\\\n",
    "4 & 6 & 8 \\\\\n",
    "3 & 6 & 9\n",
    "\\end{vmatrix}\n",
    "$$"
   ]
  },
  {
   "cell_type": "markdown",
   "id": "99ad9b93",
   "metadata": {},
   "source": [
    "If you are short on time, this is the bare essential to know on tensor computing from scratch!\n",
    "\n",
    "But if you are thirsty for more, including the implementation of a graph neural network, transpositions, and slicing, hang on for part 2 of this series!"
   ]
  }
 ],
 "metadata": {
  "kernelspec": {
   "display_name": "Python 3 (ipykernel)",
   "language": "python",
   "name": "python3"
  },
  "language_info": {
   "codemirror_mode": {
    "name": "ipython",
    "version": 3
   },
   "file_extension": ".py",
   "mimetype": "text/x-python",
   "name": "python",
   "nbconvert_exporter": "python",
   "pygments_lexer": "ipython3",
   "version": "3.12.5"
  },
  "widgets": {
   "application/vnd.jupyter.widget-state+json": {
    "state": {},
    "version_major": 2,
    "version_minor": 0
   }
  }
 },
 "nbformat": 4,
 "nbformat_minor": 5
}
