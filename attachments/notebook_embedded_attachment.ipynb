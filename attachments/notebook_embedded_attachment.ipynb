{
 "cells": [
  {
   "cell_type": "markdown",
   "id": "eaf65bad-d3a2-4a9e-89e0-9ec1d932f6ac",
   "metadata": {},
   "source": [
    "---\n",
    "layout: post\n",
    "title:  \"Embedding files into Jupyter notebooks with clickable download links\"\n",
    "date:   2021-05-12 12:00:00 +0200\n",
    "categories: Python\n",
    "---\n",
    "\n",
    "Sharing Jupyter notebook or exporting them to HTML is a great way of sharing the results of an analysis with other stakeholders. Some analyses however produce additional data that cannot be simply shown in the nobeook. In such cases, your only option is to send additional files along with the notebook. Or is it?\n",
    "\n",
    "<!-- more -->"
   ]
  },
  {
   "cell_type": "markdown",
   "id": "e5746095-4c3a-48d1-a49c-402463b71267",
   "metadata": {},
   "source": [
    "## Show me the code!\n",
    "\n",
    "Imagine you have the following data frame:"
   ]
  },
  {
   "cell_type": "code",
   "execution_count": 1,
   "id": "1ce6cea0-a07c-4381-ac68-9911be175cd7",
   "metadata": {
    "execution": {
     "iopub.execute_input": "2021-05-12T11:00:03.862911Z",
     "iopub.status.busy": "2021-05-12T11:00:03.862649Z",
     "iopub.status.idle": "2021-05-12T11:00:04.055262Z",
     "shell.execute_reply": "2021-05-12T11:00:04.054671Z",
     "shell.execute_reply.started": "2021-05-12T11:00:03.862839Z"
    },
    "tags": []
   },
   "outputs": [],
   "source": [
    "import pandas as pd\n",
    "\n",
    "df = pd.DataFrame({\n",
    "    'i': [1, 2, 3],\n",
    "    '2i': [2, 4, 6],\n",
    "    'ii': [1, 4, 9]\n",
    "})"
   ]
  },
  {
   "cell_type": "markdown",
   "id": "957ed57e-2bab-41e6-8c5d-ccb1d562b023",
   "metadata": {},
   "source": [
    "Here is how to create a download link for it:"
   ]
  },
  {
   "cell_type": "code",
   "execution_count": 2,
   "id": "c6378740-59fd-4328-b7b6-59164eb4ca5e",
   "metadata": {
    "execution": {
     "iopub.execute_input": "2021-05-12T11:00:04.056203Z",
     "iopub.status.busy": "2021-05-12T11:00:04.056049Z",
     "iopub.status.idle": "2021-05-12T11:00:04.066851Z",
     "shell.execute_reply": "2021-05-12T11:00:04.066306Z",
     "shell.execute_reply.started": "2021-05-12T11:00:04.056182Z"
    },
    "tags": []
   },
   "outputs": [
    {
     "data": {
      "text/html": [
       "\n",
       "<a href=\"data:text/csv;base64,LGksMmksaWkKMCwxLDIsMQoxLDIsNCw0CjIsMyw2LDkK\"\n",
       "       download=\"dataframe.csv\">\n",
       "   Download dataframe\n",
       "</a>\n"
      ],
      "text/plain": [
       "<IPython.core.display.HTML object>"
      ]
     },
     "metadata": {},
     "output_type": "display_data"
    }
   ],
   "source": [
    "from IPython.core.display import display, HTML\n",
    "from base64 import b64encode\n",
    "\n",
    "data = b64encode(df.to_csv().encode('utf8')).decode('utf8')\n",
    "link = f'''\n",
    "<a href=\"data:text/csv;base64,{data}\"\n",
    "       download=\"dataframe.csv\">\n",
    "   Download dataframe\n",
    "</a>\n",
    "'''\n",
    "display(HTML(link))"
   ]
  },
  {
   "cell_type": "markdown",
   "id": "57dc3730-1c95-4009-aa8b-e13fcf59bfbd",
   "metadata": {},
   "source": [
    "Try it, the link really works!\n",
    "\n",
    "The data will be available both in a HTML export and in a Jupyter notebook, even if you restart the kernel. Great for sharing! Try to download the notebook in which I wrote this blog post, [here](/attachments/notebook_embedded_attachment.ipynb)."
   ]
  },
  {
   "cell_type": "markdown",
   "id": "33bb7289-8ba1-4f44-a324-8c3f6f768bf8",
   "metadata": {},
   "source": [
    "## How does it work?\n",
    "\n",
    "It makes use of a [data URI][datauri] together with Jupyter's ability to show arbitrary HTML as the output of a cell. Data URIs allow you to embed arbitrary data in a web page, which is then treated as an external resource (i.e. it can be downloaded). In the snippet above, the data URI is the part inside the `href` attribute of the `a` tag. The rendered HTML looks like this:\n",
    "\n",
    "[datauri]: https://en.wikipedia.org/wiki/Data_URI_scheme"
   ]
  },
  {
   "cell_type": "code",
   "execution_count": 3,
   "id": "ed52fa12-b167-449d-88f3-8ffb13417171",
   "metadata": {
    "execution": {
     "iopub.execute_input": "2021-05-12T11:00:04.067770Z",
     "iopub.status.busy": "2021-05-12T11:00:04.067590Z",
     "iopub.status.idle": "2021-05-12T11:00:04.071091Z",
     "shell.execute_reply": "2021-05-12T11:00:04.070527Z",
     "shell.execute_reply.started": "2021-05-12T11:00:04.067743Z"
    },
    "tags": []
   },
   "outputs": [
    {
     "name": "stdout",
     "output_type": "stream",
     "text": [
      "\n",
      "<a href=\"data:text/csv;base64,LGksMmksaWkKMCwxLDIsMQoxLDIsNCw0CjIsMyw2LDkK\"\n",
      "       download=\"dataframe.csv\">\n",
      "   Download dataframe\n",
      "</a>\n",
      "\n"
     ]
    }
   ],
   "source": [
    "print(link)"
   ]
  },
  {
   "cell_type": "markdown",
   "id": "45708c9f-f0ce-408e-b8cd-55624a16b9a9",
   "metadata": {},
   "source": [
    "A data URI has the following format:\n",
    "\n",
    "```\n",
    "data:[<media type>][;base64],<data>\n",
    "```\n",
    "\n",
    "Where the [media type][mime] specifies what the data represents (a CSV file in the example) and the optional `base64` specification indicates whether the data is encoded in [base 64][b64] or plain text. For CSV files you need to use base64, otherwise the newlines in the file will be ignored (as per the HTML specifications). Finally, The `download` attribute is used to give a name to the CSV file.\n",
    "\n",
    "Using base64 allows you to embed binary files too; for example, you could compress large data frames or export them as excel files. More advanced use-cases may require using an in-memory buffer, for example:\n",
    "\n",
    "[b64]: https://en.wikipedia.org/wiki/Base64\n",
    "[mime]: https://en.wikipedia.org/wiki/Media_type\n",
    "        "
   ]
  },
  {
   "cell_type": "code",
   "execution_count": 4,
   "id": "04872efe-fdd6-4017-ac51-242afec53dad",
   "metadata": {
    "execution": {
     "iopub.execute_input": "2021-05-12T11:00:04.071972Z",
     "iopub.status.busy": "2021-05-12T11:00:04.071813Z",
     "iopub.status.idle": "2021-05-12T11:00:04.122396Z",
     "shell.execute_reply": "2021-05-12T11:00:04.121751Z",
     "shell.execute_reply.started": "2021-05-12T11:00:04.071951Z"
    },
    "tags": []
   },
   "outputs": [
    {
     "ename": "NameError",
     "evalue": "name 'np' is not defined",
     "output_type": "error",
     "traceback": [
      "\u001b[0;31m---------------------------------------------------------------------------\u001b[0m",
      "\u001b[0;31mNameError\u001b[0m                                 Traceback (most recent call last)",
      "\u001b[0;32m<ipython-input-4-6cb0c31b3882>\u001b[0m in \u001b[0;36m<module>\u001b[0;34m\u001b[0m\n\u001b[1;32m      2\u001b[0m \u001b[0;34m\u001b[0m\u001b[0m\n\u001b[1;32m      3\u001b[0m \u001b[0;32mwith\u001b[0m \u001b[0mBytesIO\u001b[0m\u001b[0;34m(\u001b[0m\u001b[0;34m)\u001b[0m \u001b[0;32mas\u001b[0m \u001b[0mbuf\u001b[0m\u001b[0;34m:\u001b[0m\u001b[0;34m\u001b[0m\u001b[0;34m\u001b[0m\u001b[0m\n\u001b[0;32m----> 4\u001b[0;31m     \u001b[0mnp\u001b[0m\u001b[0;34m.\u001b[0m\u001b[0msave\u001b[0m\u001b[0;34m(\u001b[0m\u001b[0mbuf\u001b[0m\u001b[0;34m,\u001b[0m \u001b[0mdf\u001b[0m\u001b[0;34m)\u001b[0m\u001b[0;34m\u001b[0m\u001b[0;34m\u001b[0m\u001b[0m\n\u001b[0m\u001b[1;32m      5\u001b[0m     \u001b[0mbuf\u001b[0m\u001b[0;34m.\u001b[0m\u001b[0mseek\u001b[0m\u001b[0;34m(\u001b[0m\u001b[0;36m0\u001b[0m\u001b[0;34m)\u001b[0m\u001b[0;34m\u001b[0m\u001b[0;34m\u001b[0m\u001b[0m\n\u001b[1;32m      6\u001b[0m \u001b[0;34m\u001b[0m\u001b[0m\n",
      "\u001b[0;31mNameError\u001b[0m: name 'np' is not defined"
     ]
    }
   ],
   "source": [
    "from io import BytesIO\n",
    "\n",
    "with BytesIO() as buf:\n",
    "    np.save(buf, df)\n",
    "    buf.seek(0)\n",
    "    \n",
    "    data = b64encode(buf.read()).decode('utf8')\n",
    "    link = f'''\n",
    "    <a href=\"data:application/octet-stream;base64,{data}\"\n",
    "           download=\"data.npy\">\n",
    "       Download data\n",
    "    </a>\n",
    "    '''\n",
    "    display(HTML(link))"
   ]
  },
  {
   "cell_type": "markdown",
   "id": "dc9ff9d0-864f-4468-8b57-ad536e847b6c",
   "metadata": {},
   "source": [
    "Note the media type, `application/octet-stream`, to denote general binary data. Other types you may find useful are `application/vnd.ms-excel` for Excel files and `application/json` for JSON data."
   ]
  },
  {
   "cell_type": "markdown",
   "id": "b227b1c2-3b4b-48f6-89b3-9f9439020347",
   "metadata": {},
   "source": [
    "## What limitations does it have?"
   ]
  },
  {
   "cell_type": "markdown",
   "id": "82b5b5a7-836d-4ec4-b1a3-3451a3c36b2b",
   "metadata": {},
   "source": [
    "The most important limitation is data size, as embedding anything but small files will seriously clog Jupyter and the browser itself. For example, a data frame with 25 columns and 100,000 rows consumes only 19 MB, which grows to 62MB once embedded into base64. After displaying the download link, there is a visible delay in some operations such as opening and the notebook, clicking the link, etc. Grow the data size by five or ten times and the browser becomes unuseable.\n",
    "\n",
    "So you won't be able to embed Big Data(R) in your notebooks, but this method opens a whole lot of new useful use-cases."
   ]
  }
 ],
 "metadata": {
  "kernelspec": {
   "display_name": "Python 3",
   "language": "python",
   "name": "python3"
  },
  "language_info": {
   "codemirror_mode": {
    "name": "ipython",
    "version": 3
   },
   "file_extension": ".py",
   "mimetype": "text/x-python",
   "name": "python",
   "nbconvert_exporter": "python",
   "pygments_lexer": "ipython3",
   "version": "3.7.10"
  },
  "widgets": {
   "application/vnd.jupyter.widget-state+json": {
    "state": {},
    "version_major": 2,
    "version_minor": 0
   }
  }
 },
 "nbformat": 4,
 "nbformat_minor": 5
}
